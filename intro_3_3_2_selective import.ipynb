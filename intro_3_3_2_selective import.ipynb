{
 "cells": [
  {
   "cell_type": "markdown",
   "metadata": {},
   "source": [
    "# Selective import\n",
    "\n",
    "General imports, like <span style=\"background-color: #CFDCE2\">import math</span>, make all functionality from the <span style=\"background-color: #CFDCE2\">math</span> package available to you. However, if you decide to only use a specific part of a package, you can always make your import more selective:\n",
    "\n",
    "> from math import pi\n",
    "\n",
    "Let's say the Moon's orbit around planet Earth is a perfect circle, with a radius <span style=\"background-color: #CFDCE2\">r</span> (in km) that is defined in the script.\n",
    "\n",
    "### INSTRUCTIONS\n",
    "\n",
    "- Perform a selective import from the <span style=\"background-color: #CFDCE2\">math</span> package where you only import the <span style=\"background-color: #CFDCE2\">radians</span> function.\n",
    "- Calculate the distance travelled by the Moon over 12 degrees of its orbit. Assign the result to <span style=\"background-color: #CFDCE2\">dist</span>. You can calculate this as <span style=\"background-color: #CFDCE2\">r \\* phi</span>, where <span style=\"background-color: #CFDCE2\">r</span> is the radius and <span style=\"background-color: #CFDCE2\">phi</span> is the angle in radians. To convert an angle in degrees to an angle in radians, use the <span style=\"background-color: #CFDCE2\">**radians()**</span> function, which you just imported.\n",
    "- Print out <span style=\"background-color: #CFDCE2\">dist</span>.\n"
   ]
  },
  {
   "cell_type": "code",
   "execution_count": null,
   "metadata": {
    "collapsed": true
   },
   "outputs": [],
   "source": [
    "# Definition of radius\n",
    "r = 192500\n",
    "\n",
    "# Import radians function of math package\n",
    "\n",
    "\n",
    "# Travel distance of Moon over 12 degrees. Store in dist.\n",
    "\n",
    "\n",
    "# Print out dist\n"
   ]
  }
 ],
 "metadata": {
  "kernelspec": {
   "display_name": "Python 2",
   "language": "python",
   "name": "python2"
  },
  "language_info": {
   "codemirror_mode": {
    "name": "ipython",
    "version": 2
   },
   "file_extension": ".py",
   "mimetype": "text/x-python",
   "name": "python",
   "nbconvert_exporter": "python",
   "pygments_lexer": "ipython2",
   "version": "2.7.14"
  }
 },
 "nbformat": 4,
 "nbformat_minor": 2
}
