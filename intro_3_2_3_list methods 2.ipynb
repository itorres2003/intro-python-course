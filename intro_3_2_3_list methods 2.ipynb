{
 "cells": [
  {
   "cell_type": "markdown",
   "metadata": {},
   "source": [
    "# List Methods (2)\n",
    "\n",
    "Most list methods will change the list they're called on. Examples are:\n",
    "\n",
    "- <span style=\"background-color: #CFDCE2\">**append()**</span>, that adds an element to the list it is called on,\n",
    "- <span style=\"background-color: #CFDCE2\">**remove()**</span>, that removes the first element of a list that matches the input, and\n",
    "- <span style=\"background-color: #CFDCE2\">**reverse()**</span>, that reverses the order of the elements in the list it is called on.\n",
    "\n",
    "You'll be working on the list with the area of different parts of the house: <span style=\"background-color: #CFDCE2\">areas</span>.\n",
    "\n",
    "### INSTRUCTIONS\n",
    "\n",
    "- Use <span style=\"background-color: #CFDCE2\">**append()**</span> twice to add the size of the poolhouse and the garage again: <span style=\"background-color: #CFDCE2\">24.5</span> and <span style=\"background-color: #CFDCE2\">15.45</span>, respectively. Make sure to add them in this order.\n",
    "- Print out <span style=\"background-color: #CFDCE2\">areas</span>\n",
    "- Use the <span style=\"background-color: #CFDCE2\">**reverse()**</span> method to reverse the order of the elements in <span style=\"background-color: #CFDCE2\">areas</span>.\n",
    "- Print out <span style=\"background-color: #CFDCE2\">areas</span> once more."
   ]
  },
  {
   "cell_type": "code",
   "execution_count": null,
   "metadata": {
    "collapsed": true
   },
   "outputs": [],
   "source": [
    "# Create list areas\n",
    "areas = [11.25, 18.0, 20.0, 10.75, 9.50]\n",
    "\n",
    "# Use append twice to add poolhouse and garage size\n",
    "\n",
    "\n",
    "\n",
    "# Print out areas\n",
    "\n",
    "\n",
    "# Reverse the orders of the elements in areas\n",
    "\n",
    "\n",
    "# Print out areas\n"
   ]
  }
 ],
 "metadata": {
  "kernelspec": {
   "display_name": "Python 2",
   "language": "python",
   "name": "python2"
  },
  "language_info": {
   "codemirror_mode": {
    "name": "ipython",
    "version": 2
   },
   "file_extension": ".py",
   "mimetype": "text/x-python",
   "name": "python",
   "nbconvert_exporter": "python",
   "pygments_lexer": "ipython2",
   "version": "2.7.14"
  }
 },
 "nbformat": 4,
 "nbformat_minor": 2
}
