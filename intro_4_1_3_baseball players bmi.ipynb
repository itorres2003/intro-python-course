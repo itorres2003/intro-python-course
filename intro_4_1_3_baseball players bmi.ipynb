{
 "cells": [
  {
   "cell_type": "markdown",
   "metadata": {},
   "source": [
    "# Baseball player's BMI\n",
    "\n",
    "The MLB also offers to let you analyze their weight data. Again, both are available as regular Python lists: <span style=\"background-color: #CFDCE2\">height</span> and <span style=\"background-color: #CFDCE2\">weight</span>. <span style=\"background-color: #CFDCE2\">height</span> is in inches and <span style=\"background-color: #CFDCE2\">weight</span> is in pounds.\n",
    "\n",
    "It's now possible to calculate the BMI of each baseball player. Python code to convert <span style=\"background-color: #CFDCE2\">height</span> to a <span style=\"background-color: #CFDCE2\">numpy</span> array with the correct units is already available in the workspace. Follow the instructions step by step and finish the game!\n",
    "\n",
    "### INSTRUCTIONS\n",
    "\n",
    "- Create a <span style=\"background-color: #CFDCE2\">numpy</span> array from the <span style=\"background-color: #CFDCE2\">weight</span> list with the correct units. Multiply by <span style=\"background-color: #CFDCE2\">0.453592</span> to go from pounds to kilograms. Store the resulting <span style=\"background-color: #CFDCE2\">numpy</span> array as <span style=\"background-color: #CFDCE2\">np_weight_kg</span>.\n",
    "- Use <span style=\"background-color: #CFDCE2\">np_height_m</span> and <span style=\"background-color: #CFDCE2\">np_weight_kg</span> to calculate the BMI of each player. Use the following equation:\n",
    "\n",
    "$$BMI = \\frac{weight(kg)}{height(m)^2}$$\n",
    "\n",
    " Save the resulting <span style=\"background-color: #CFDCE2\">numpy</span> array as <span style=\"background-color: #CFDCE2\">bmi</span>.\n",
    "- Print out <span style=\"background-color: #CFDCE2\">bmi</span>.\n"
   ]
  },
  {
   "cell_type": "code",
   "execution_count": 1,
   "metadata": {
    "collapsed": true
   },
   "outputs": [],
   "source": [
    "%run intro_4_1_3.py"
   ]
  },
  {
   "cell_type": "code",
   "execution_count": null,
   "metadata": {
    "collapsed": true
   },
   "outputs": [],
   "source": [
    "# height and weight are available as a regular lists\n",
    "\n",
    "# Import numpy\n",
    "import numpy as np\n",
    "\n",
    "# Create array from height with correct units: np_height_m\n",
    "np_height_m = np.array(height) * 0.0254\n",
    "\n",
    "# Create array from weight with correct units: np_weight_kg\n",
    "\n",
    "\n",
    "# Calculate the BMI: bmi\n",
    "\n",
    "\n",
    "# Print out bmi\n"
   ]
  }
 ],
 "metadata": {
  "kernelspec": {
   "display_name": "Python 2",
   "language": "python",
   "name": "python2"
  },
  "language_info": {
   "codemirror_mode": {
    "name": "ipython",
    "version": 2
   },
   "file_extension": ".py",
   "mimetype": "text/x-python",
   "name": "python",
   "nbconvert_exporter": "python",
   "pygments_lexer": "ipython2",
   "version": "2.7.14"
  }
 },
 "nbformat": 4,
 "nbformat_minor": 2
}
