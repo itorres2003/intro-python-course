{
 "cells": [
  {
   "cell_type": "markdown",
   "metadata": {},
   "source": [
    "# Your First NumPy Array\n",
    "\n",
    "In this chapter, we're going to dive into the world of baseball. Along the way, you'll get comfortable with the basics of <span style=\"background-color: #CFDCE2\">numpy</span>, a powerful package to do data science.\n",
    "\n",
    "A list <span style=\"background-color: #CFDCE2\">baseball</span> has already been defined in the Python script, representing the height of some baseball players in centimeters. Can you add some code here and there to create a <span style=\"background-color: #CFDCE2\">numpy</span> array from it?\n",
    "\n",
    "### INSTRUCTIONS\n",
    "\n",
    "- Import the <span style=\"background-color: #CFDCE2\">numpy</span> package as <span style=\"background-color: #CFDCE2\">np</span>, so that you can refer to <span style=\"background-color: #CFDCE2\">numpy</span> with <span style=\"background-color: #CFDCE2\">np</span>.\n",
    "- Use <span style=\"background-color: #CFDCE2\">**np.array()**</span> to create a <span style=\"background-color: #CFDCE2\">numpy</span> array from <span style=\"background-color: #CFDCE2\">baseball</span>. Name this array <span style=\"background-color: #CFDCE2\">np_baseball</span>.\n",
    "- Print out the type of <span style=\"background-color: #CFDCE2\">np_baseball</span> to check that you got it right.\n"
   ]
  },
  {
   "cell_type": "code",
   "execution_count": null,
   "metadata": {
    "collapsed": true
   },
   "outputs": [],
   "source": [
    "# Create list baseball\n",
    "baseball = [180, 215, 210, 210, 188, 176, 209, 200]\n",
    "\n",
    "# Import the numpy package as np\n",
    "\n",
    "\n",
    "# Create a numpy array from baseball: np_baseball\n",
    "\n",
    "\n",
    "# Print out type of np_baseball\n"
   ]
  }
 ],
 "metadata": {
  "kernelspec": {
   "display_name": "Python 2",
   "language": "python",
   "name": "python2"
  },
  "language_info": {
   "codemirror_mode": {
    "name": "ipython",
    "version": 2
   },
   "file_extension": ".py",
   "mimetype": "text/x-python",
   "name": "python",
   "nbconvert_exporter": "python",
   "pygments_lexer": "ipython2",
   "version": "2.7.14"
  }
 },
 "nbformat": 4,
 "nbformat_minor": 2
}
