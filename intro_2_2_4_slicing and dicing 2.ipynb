{
 "cells": [
  {
   "cell_type": "markdown",
   "metadata": {},
   "source": [
    "# Slicing and dicing (2)\n",
    "\n",
    "This is the syntax where you specify both where to begin and end the slice of your list:\n",
    "\n",
    ">my_list[begin:end]\n",
    "\n",
    "However, it's also possible not to specify these indexes. If you don't specify the <span style=\"background-color: #CFDCE2\">begin</span> index, Python figures out that you want to start your slice at the beginning of your list. If you don't specify the <span style=\"background-color: #CFDCE2\">end</span> index, the slice will go all the way to the last element of your list. To experiment with this, try the following commands in the IPython Shell:\n",
    "\n",
    "```x = [\"a\", \"b\", \"c\", \"d\"]\n",
    "x[:2]\n",
    "x[2:]\n",
    "x[:]```\n",
    "\n",
    "### INSTRUCTIONS\n",
    "\n",
    "- Use slicing to create the lists <span style=\"background-color: #CFDCE2\">downstairs</span> and <span style=\"background-color: #CFDCE2\">upstairs</span> again, but this time without using indexes if it's not necessary. Remember <span style=\"background-color: #CFDCE2\">downstairs</span> is the first 6 elements of <span style=\"background-color: #CFDCE2\">areas</span> and <span style=\"background-color: #CFDCE2\">upstairs</span> is the last 4 elements of <span style=\"background-color: #CFDCE2\">areas</span>."
   ]
  },
  {
   "cell_type": "code",
   "execution_count": null,
   "metadata": {
    "collapsed": true
   },
   "outputs": [],
   "source": [
    "# Create the areas list\n",
    "areas = [\"hallway\", 11.25, \"kitchen\", 18.0, \"living room\", 20.0, \"bedroom\", 10.75, \"bathroom\", 9.50]\n",
    "\n",
    "# Alternative slicing to create downstairs\n",
    "\n",
    "\n",
    "# Alternative slicing to create upstairs"
   ]
  }
 ],
 "metadata": {
  "kernelspec": {
   "display_name": "Python 2",
   "language": "python",
   "name": "python2"
  },
  "language_info": {
   "codemirror_mode": {
    "name": "ipython",
    "version": 2
   },
   "file_extension": ".py",
   "mimetype": "text/x-python",
   "name": "python",
   "nbconvert_exporter": "python",
   "pygments_lexer": "ipython2",
   "version": "2.7.14"
  }
 },
 "nbformat": 4,
 "nbformat_minor": 2
}
