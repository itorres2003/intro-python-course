{
 "cells": [
  {
   "cell_type": "markdown",
   "metadata": {},
   "source": [
    "# Inner workings of lists\n",
    "\n",
    "In this exercise you'll get some hands-on experience with how Python lists work behind the scenes.\n",
    "\n",
    "The Python code in the script already creates a list with the name <span style=\"background-color: #CFDCE2\">areas</span> and a copy named <span style=\"background-color: #CFDCE2\">areas_copy</span>. Next, the first element in the <span style=\"background-color: #CFDCE2\">areas_copy</span> list is changed and the <span style=\"background-color: #CFDCE2\">areas</span> list is printed out. If you hit *Shift + Enter* you'll see that, although you've changed <span style=\"background-color: #CFDCE2\">areas_copy</span>, the change also takes effect in the <span style=\"background-color: #CFDCE2\">areas</span> list. That's because <span style=\"background-color: #CFDCE2\">areas</span> and <span style=\"background-color: #CFDCE2\">areas_copy</span> point to the same list.\n",
    "\n",
    "If you want to prevent changes in <span style=\"background-color: #CFDCE2\">areas_copy</span> to also take effect in <span style=\"background-color: #CFDCE2\">areas</span>, you'll have to do a more explicit copy of the <span style=\"background-color: #CFDCE2\">areas</span> list. You can do this with <span style=\"background-color: #CFDCE2\">**list()**</span> or by using <span style=\"background-color: #CFDCE2\">[:]</span>.\n",
    "\n",
    "### INSTRUCTIONS\n",
    "\n",
    "- Change the second command, that creates the variable <span style=\"background-color: #CFDCE2\">areas_copy</span>, such that <span style=\"background-color: #CFDCE2\">areas_copy</span> is an explicit copy of <span style=\"background-color: #CFDCE2\">areas</span>\n",
    "- Now, changes made to <span style=\"background-color: #CFDCE2\">areas_copy</span> shouldn't affect <span style=\"background-color: #CFDCE2\">areas</span>. Hit *Shift + Enter* to check this.\n",
    "\n"
   ]
  },
  {
   "cell_type": "code",
   "execution_count": null,
   "metadata": {
    "collapsed": true
   },
   "outputs": [],
   "source": [
    "# Create list areas\n",
    "areas = [11.25, 18.0, 20.0, 10.75, 9.50]\n",
    "\n",
    "# Create areas_copy\n",
    "areas_copy = areas\n",
    "\n",
    "# Change areas_copy\n",
    "areas_copy[0] = 5.0\n",
    "\n",
    "# Print areas\n",
    "print(areas)\n"
   ]
  }
 ],
 "metadata": {
  "kernelspec": {
   "display_name": "Python 2",
   "language": "python",
   "name": "python2"
  },
  "language_info": {
   "codemirror_mode": {
    "name": "ipython",
    "version": 2
   },
   "file_extension": ".py",
   "mimetype": "text/x-python",
   "name": "python",
   "nbconvert_exporter": "python",
   "pygments_lexer": "ipython2",
   "version": "2.7.14"
  }
 },
 "nbformat": 4,
 "nbformat_minor": 2
}
