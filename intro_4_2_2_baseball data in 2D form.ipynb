{
 "cells": [
  {
   "cell_type": "markdown",
   "metadata": {},
   "source": [
    "# Baseball data in 2D form\n",
    "\n",
    "You have another look at the MLB data and realize that it makes more sense to restructure all this information in a 2D <span style=\"background-color: #CFDCE2\">numpy</span> array. This array should have 1015 rows, corresponding to the 1015 baseball players you have information on, and 2 columns (for height and weight).\n",
    "\n",
    "The MLB was, again, very helpful and passed you the data in a different structure, a Python list of lists. In this list of lists, each sublist represents the height and weight of a single baseball player. The name of this embedded list is <span style=\"background-color: #CFDCE2\">baseball</span>.\n",
    "\n",
    "Can you store the data as a 2D array to unlock <span style=\"background-color: #CFDCE2\">numpy</span>'s extra functionality?\n",
    "\n",
    "### INSTRUCTIONS\n",
    "\n",
    "- Use <span style=\"background-color: #CFDCE2\">**np.array()**</span> to create a 2D <span style=\"background-color: #CFDCE2\">numpy</span> array from <span style=\"background-color: #CFDCE2\">baseball</span>. Name it <span style=\"background-color: #CFDCE2\">np_baseball</span>.\n",
    "- Print out the <span style=\"background-color: #CFDCE2\">shape</span> attribute of <span style=\"background-color: #CFDCE2\">np_baseball</span>."
   ]
  },
  {
   "cell_type": "code",
   "execution_count": null,
   "metadata": {
    "collapsed": true
   },
   "outputs": [],
   "source": [
    "%run intro_4_2_2_baseball.py # Do not edit and Hit Shift + Enter before editing code below"
   ]
  },
  {
   "cell_type": "code",
   "execution_count": null,
   "metadata": {
    "collapsed": true
   },
   "outputs": [],
   "source": [
    "# baseball is available as a regular list of lists\n",
    "\n",
    "# Import numpy package\n",
    "import numpy as np\n",
    "\n",
    "# Create a 2D numpy array from baseball: np_baseball\n",
    "\n",
    "\n",
    "# Print out the shape of np_baseball"
   ]
  }
 ],
 "metadata": {
  "kernelspec": {
   "display_name": "Python 2",
   "language": "python",
   "name": "python2"
  },
  "language_info": {
   "codemirror_mode": {
    "name": "ipython",
    "version": 2
   },
   "file_extension": ".py",
   "mimetype": "text/x-python",
   "name": "python",
   "nbconvert_exporter": "python",
   "pygments_lexer": "ipython2",
   "version": "2.7.14"
  }
 },
 "nbformat": 4,
 "nbformat_minor": 2
}
