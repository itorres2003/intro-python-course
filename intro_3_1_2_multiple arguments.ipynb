{
 "cells": [
  {
   "cell_type": "markdown",
   "metadata": {},
   "source": [
    "# Multiple arguments\n",
    "\n",
    "In the previous exercise, the square brackets around <span style=\"background-color: #CFDCE2\">imag</span> in the documentation showed us that the <span style=\"background-color: #CFDCE2\">imag</span> argument is optional. But Python also uses a different way to tell users about arguments being optional.\n",
    "\n",
    "Have a look at the documentation of <span style=\"background-color: #CFDCE2\">**sorted()**</span> by typing <span style=\"background-color: #CFDCE2\">help(sorted)</span> in the IPython Shell.\n",
    "\n",
    "You'll see that <span style=\"background-color: #CFDCE2\">**sorted()**</span> takes three arguments: <span style=\"background-color: #CFDCE2\">iterable</span>, <span style=\"background-color: #CFDCE2\">key</span> and <span style=\"background-color: #CFDCE2\">reverse</span>.\n",
    "\n",
    "<span style=\"background-color: #CFDCE2\">key=None</span> means that if you don't specify the <span style=\"background-color: #CFDCE2\">key</span> argument, it will be <span style=\"background-color: #CFDCE2\">None</span>. <span style=\"background-color: #CFDCE2\">reverse=False</span> means that if you don't specify the <span style=\"background-color: #CFDCE2\">reverse</span> argument, it will be <span style=\"background-color: #CFDCE2\">False</span>.\n",
    "\n",
    "In this exercise, you'll only have to specify <span style=\"background-color: #CFDCE2\">iterable</span> and <span style=\"background-color: #CFDCE2\">reverse</span>, not <span style=\"background-color: #CFDCE2\">key</span>. The first input you pass to <span style=\"background-color: #CFDCE2\">**sorted()**</span> will be matched to the <span style=\"background-color: #CFDCE2\">iterable</span> argument, but what about the second input? To tell Python you want to specify <span style=\"background-color: #CFDCE2\">reverse</span> without changing anything about <span style=\"background-color: #CFDCE2\">key</span>, you can use <span style=\"background-color: #CFDCE2\">=:</span>\n",
    "\n",
    "~~~\n",
    "sorted(___, reverse = ___)\n",
    "~~~\n",
    "\n",
    "Two lists have been created for you on the right. Can you paste them together and sort them in descending order?\n",
    "\n",
    "Note: For now, we can understand an <span style=\"background-color: #CFDCE2\">***iterable***</span> as being any collection of objects, e.g. a List.\n",
    "\n",
    "### INSTRUCTIONS\n",
    "\n",
    "- Use <span style=\"background-color: #CFDCE2\">+</span> to merge the contents of <span style=\"background-color: #CFDCE2\">first</span> and <span style=\"background-color: #CFDCE2\">second</span> into a new list: <span style=\"background-color: #CFDCE2\">full</span>.\n",
    "- Call <span style=\"background-color: #CFDCE2\">**sorted()**</span> on <span style=\"background-color: #CFDCE2\">full</span> and specify the <span style=\"background-color: #CFDCE2\">reverse</span> argument to be <span style=\"background-color: #CFDCE2\">True</span>. Save the sorted list as <span style=\"background-color: #CFDCE2\">full_sorted</span>.\n",
    "- Finish off by printing out <span style=\"background-color: #CFDCE2\">full_sorted</span>.\n",
    "\n"
   ]
  },
  {
   "cell_type": "code",
   "execution_count": null,
   "metadata": {
    "collapsed": true
   },
   "outputs": [],
   "source": []
  },
  {
   "cell_type": "code",
   "execution_count": null,
   "metadata": {
    "collapsed": true
   },
   "outputs": [],
   "source": [
    "# Create lists first and second\n",
    "first = [11.25, 18.0, 20.0]\n",
    "second = [10.75, 9.50]\n",
    "\n",
    "# Paste together first and second: full\n",
    "\n",
    "\n",
    "# Sort full in descending order: full_sorted\n",
    "\n",
    "\n",
    "# Print out full_sorted"
   ]
  }
 ],
 "metadata": {
  "kernelspec": {
   "display_name": "Python 2",
   "language": "python",
   "name": "python2"
  },
  "language_info": {
   "codemirror_mode": {
    "name": "ipython",
    "version": 2
   },
   "file_extension": ".py",
   "mimetype": "text/x-python",
   "name": "python",
   "nbconvert_exporter": "python",
   "pygments_lexer": "ipython2",
   "version": "2.7.14"
  }
 },
 "nbformat": 4,
 "nbformat_minor": 2
}
