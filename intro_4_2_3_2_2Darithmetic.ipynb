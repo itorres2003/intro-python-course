{
 "cells": [
  {
   "cell_type": "markdown",
   "metadata": {},
   "source": [
    "# 2D Arithmetic\n",
    "\n",
    "Remember how you calculated the Body Mass Index for all baseball players? <span style=\"background-color: #CFDCE2\">numpy</span> was able to perform all calculations element-wise (i.e. element by element). For 2D <span style=\"background-color: #CFDCE2\">numpy</span> arrays this isn't any different! You can combine matrices with single numbers, with vectors, and with other matrices.\n",
    "\n",
    "Execute the code below in the IPython shell and see if you understand:\n",
    "\n",
    "~~~\n",
    "import numpy as np\n",
    "np_mat = np.array([[1, 2],\n",
    "                   [3, 4],\n",
    "                   [5, 6]])\n",
    "np_mat * 2\n",
    "np_mat + np.array([10, 10])\n",
    "np_mat + np_mat\n",
    "~~~\n",
    "\n",
    "<span style=\"background-color: #CFDCE2\">np_baseball</span> is coded for you; it's again a 2D <span style=\"background-color: #CFDCE2\">numpy</span> array with 3 columns representing height, weight and age.\n",
    "\n",
    "### INSTRUCTIONS\n",
    "\n",
    "- You managed to get hold of the changes in weight, height and age of all baseball players. It is available as a 2D <span style=\"background-color: #CFDCE2\">numpy</span> array, <span style=\"background-color: #CFDCE2\">updated</span>. Add <span style=\"background-color: #CFDCE2\">np_baseball</span> and <span style=\"background-color: #CFDCE2\">updated</span> and print out the result.\n",
    "- You want to convert the units of height and weight. As a first step, create a <span style=\"background-color: #CFDCE2\">numpy</span> array with three values: <span style=\"background-color: #CFDCE2\">0.0254</span>, <span style=\"background-color: #CFDCE2\">0.453592</span> and <span style=\"background-color: #CFDCE2\">1</span>. Name this array <span style=\"background-color: #CFDCE2\">conversion</span>.\n",
    "- Multiply <span style=\"background-color: #CFDCE2\">np_baseball</span> with <span style=\"background-color: #CFDCE2\">conversion</span> and print out the result.\n"
   ]
  },
  {
   "cell_type": "code",
   "execution_count": null,
   "metadata": {
    "collapsed": true
   },
   "outputs": [],
   "source": [
    "%run intro_4_2_3.py  # Do not edit this, Hit Shift + Enter before editing code below"
   ]
  },
  {
   "cell_type": "code",
   "execution_count": null,
   "metadata": {
    "collapsed": true
   },
   "outputs": [],
   "source": [
    "# Try this\n",
    "import numpy as np\n",
    "np_mat = np.array([[1, 2],\n",
    "                   [3, 4],\n",
    "                   [5, 6]])\n",
    "np_mat * 2\n",
    "np_mat + np.array([10, 10])\n",
    "np_mat + np_mat"
   ]
  },
  {
   "cell_type": "code",
   "execution_count": null,
   "metadata": {
    "collapsed": true
   },
   "outputs": [],
   "source": [
    "# baseball is available as a regular list of lists\n",
    "# updated is available as 2D numpy array\n",
    "\n",
    "# Import numpy package\n",
    "import numpy as np\n",
    "\n",
    "# Create np_baseball (3 cols)\n",
    "np_baseball = np.array(baseball)\n",
    "\n",
    "# Print out addition of np_baseball and updated\n",
    "\n",
    "\n",
    "# Create numpy array: conversion\n",
    "\n",
    "\n",
    "# Print out product of np_baseball and conversion"
   ]
  }
 ],
 "metadata": {
  "kernelspec": {
   "display_name": "Python 2",
   "language": "python",
   "name": "python2"
  },
  "language_info": {
   "codemirror_mode": {
    "name": "ipython",
    "version": 2
   },
   "file_extension": ".py",
   "mimetype": "text/x-python",
   "name": "python",
   "nbconvert_exporter": "python",
   "pygments_lexer": "ipython2",
   "version": "2.7.14"
  }
 },
 "nbformat": 4,
 "nbformat_minor": 2
}
