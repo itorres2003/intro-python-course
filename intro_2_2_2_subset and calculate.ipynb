{
 "cells": [
  {
   "cell_type": "markdown",
   "metadata": {},
   "source": [
    "# Subset and calculate\n",
    "\n",
    "After you've extracted values from a list, you can use them to perform additional calculations. Take this example, where the second and fourth element of a list <span style=\"background-color: #CFDCE2\">x</span> are extracted. The strings that result are pasted together using the <span style=\"background-color: #CFDCE2\">+</span> operator:\n",
    "\n",
    "```x = [\"a\", \"b\", \"c\", \"d\"]\n",
    "print(x[1] + x[3])```\n",
    "\n",
    "### INSTRUCTIONS\n",
    "\n",
    "- Using a combination of list subsetting and variable assignment, create a new variable, <span style=\"background-color: #CFDCE2\">eat_sleep_area</span>, that contains the sum of the area of the kitchen and the area of the bedroom.\n",
    "- Print the new variable <span style=\"background-color: #CFDCE2\">eat_sleep_area</span>."
   ]
  },
  {
   "cell_type": "code",
   "execution_count": null,
   "metadata": {
    "collapsed": true
   },
   "outputs": [],
   "source": [
    "# Create the areas list\n",
    "areas = [\"hallway\", 11.25, \"kitchen\", 18.0, \"living room\", 20.0, \"bedroom\", 10.75, \"bathroom\", 9.50]\n",
    "\n",
    "# Sum of kitchen and bedroom area: eat_sleep_area\n",
    "\n",
    "\n",
    "# Print the variable eat_sleep_area"
   ]
  }
 ],
 "metadata": {
  "kernelspec": {
   "display_name": "Python 2",
   "language": "python",
   "name": "python2"
  },
  "language_info": {
   "codemirror_mode": {
    "name": "ipython",
    "version": 2
   },
   "file_extension": ".py",
   "mimetype": "text/x-python",
   "name": "python",
   "nbconvert_exporter": "python",
   "pygments_lexer": "ipython2",
   "version": "2.7.14"
  }
 },
 "nbformat": 4,
 "nbformat_minor": 2
}
