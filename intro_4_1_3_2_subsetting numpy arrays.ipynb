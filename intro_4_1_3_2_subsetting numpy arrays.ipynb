{
 "cells": [
  {
   "cell_type": "markdown",
   "metadata": {},
   "source": [
    "# Subsetting NumPy Arrays\n",
    "\n",
    "You've seen it with your own eyes: Python lists and <span style=\"background-color: #CFDCE2\">numpy</span> arrays sometimes behave differently. Luckily, there are still certainties in this world. For example, subsetting (using the square bracket notation on lists or arrays) works exactly the same. To see this for yourself, try the following lines of code in the IPython Shell:\n",
    "\n",
    "~~~\n",
    "x = [\"a\", \"b\", \"c\"]\n",
    "x[1]\n",
    "\n",
    "np_x = np.array(x)\n",
    "np_x[1]\n",
    "~~~\n",
    "\n",
    "The script below already contains code that imports <span style=\"background-color: #CFDCE2\">numpy</span> as <span style=\"background-color: #CFDCE2\">np</span>, and stores both the height and weight of the MLB players as <span style=\"background-color: #CFDCE2\">numpy</span> arrays.\n",
    "\n",
    "### INSTRUCTIONS\n",
    "\n",
    "- Subset <span style=\"background-color: #CFDCE2\">np_weight</span>: print out the element at index 50.\n",
    "- Print out a sub-array of <span style=\"background-color: #CFDCE2\">np_height</span>: It contains the elements at index 100 up to and including index 110\n"
   ]
  },
  {
   "cell_type": "code",
   "execution_count": null,
   "metadata": {
    "collapsed": true
   },
   "outputs": [],
   "source": [
    "%run intro_4_1_3.py # Do not edit and Hit Shift + Enter before editing code below"
   ]
  },
  {
   "cell_type": "code",
   "execution_count": null,
   "metadata": {
    "collapsed": true
   },
   "outputs": [],
   "source": [
    "# Try this\n",
    "x = [\"a\", \"b\", \"c\"]\n",
    "x[1]\n",
    "\n",
    "np_x = np.array(x)\n",
    "np_x[1]"
   ]
  },
  {
   "cell_type": "code",
   "execution_count": null,
   "metadata": {
    "collapsed": true
   },
   "outputs": [],
   "source": [
    "# height and weight are available as a regular lists\n",
    "\n",
    "# Import numpy\n",
    "import numpy as np\n",
    "\n",
    "# Store weight and height lists as numpy arrays\n",
    "np_weight = np.array(weight)\n",
    "np_height = np.array(height)\n",
    "\n",
    "# Print out the weight at index 50\n",
    "\n",
    "\n",
    "# Print out sub-array of np_height: index 100 up to and including index 110"
   ]
  }
 ],
 "metadata": {
  "kernelspec": {
   "display_name": "Python 2",
   "language": "python",
   "name": "python2"
  },
  "language_info": {
   "codemirror_mode": {
    "name": "ipython",
    "version": 2
   },
   "file_extension": ".py",
   "mimetype": "text/x-python",
   "name": "python",
   "nbconvert_exporter": "python",
   "pygments_lexer": "ipython2",
   "version": "2.7.14"
  }
 },
 "nbformat": 4,
 "nbformat_minor": 2
}
