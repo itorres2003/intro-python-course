{
 "cells": [
  {
   "cell_type": "markdown",
   "metadata": {},
   "source": [
    "# Type conversion\n",
    "\n",
    "Using the <span style=\"background-color: #CFDCE2\">+</span> operator to paste together two strings can be very useful in building custom messages.\n",
    "\n",
    "Suppose, for example, that you've calculated the return of your investment and want to summarize the results in a string. Assuming the floats <span style=\"background-color: #CFDCE2\">savings</span> and <span style=\"background-color: #CFDCE2\">result</span> are defined, you can try something like this:\n",
    "\n",
    "> ```print(\"I started with $\" + savings + \" and now have $\" + result + \". Awesome!\")```\n",
    "\n",
    "This will not work, though, as you cannot simply sum strings and floats.\n",
    "\n",
    "To fix the error, you'll need to explicitly convert the types of your variables. More specifically, you'll need <span style=\"background-color: #CFDCE2\">str()</span>, to convert a value into a string. <span style=\"background-color: #CFDCE2\">str(savings)</span>, for example, will convert the float <span style=\"background-color: #CFDCE2\">savings</span> to a string.\n",
    "\n",
    "Similar functions such as <span style=\"background-color: #CFDCE2\">int()</span>, <span style=\"background-color: #CFDCE2\">float()</span> and <span style=\"background-color: #CFDCE2\">bool()</span> will help you convert Python values into any type.\n",
    "\n",
    "### INSTRUCTIONS\n",
    "\n",
    "- Hit ```Shift + Enter``` to run the code below. Try to understand the error message.\n",
    "- Fix the code on the right such that the printout runs without errors; use the function <span style=\"background-color: #CFDCE2\">str()</span> to convert the variables to strings.\n",
    "- Convert the variable <span style=\"background-color: #CFDCE2\">pi_string</span> to a float and store this float as a new variable, <span style=\"background-color: #CFDCE2\">pi_float</span>.\n"
   ]
  },
  {
   "cell_type": "code",
   "execution_count": null,
   "metadata": {
    "collapsed": true
   },
   "outputs": [],
   "source": [
    "# Definition of savings and result\n",
    "savings = 100\n",
    "result = 100 * 1.10 ** 7\n",
    "\n",
    "# Fix the printout\n",
    "print(\"I started with $\" + savings + \" and now have $\" + result + \". Awesome!\")\n",
    "\n",
    "# Definition of pi_string\n",
    "pi_string = \"3.1415926\"\n",
    "\n",
    "# Convert pi_string into float: pi_float\n"
   ]
  }
 ],
 "metadata": {
  "kernelspec": {
   "display_name": "Python 2",
   "language": "python",
   "name": "python2"
  },
  "language_info": {
   "codemirror_mode": {
    "name": "ipython",
    "version": 2
   },
   "file_extension": ".py",
   "mimetype": "text/x-python",
   "name": "python",
   "nbconvert_exporter": "python",
   "pygments_lexer": "ipython2",
   "version": "2.7.14"
  }
 },
 "nbformat": 4,
 "nbformat_minor": 2
}
