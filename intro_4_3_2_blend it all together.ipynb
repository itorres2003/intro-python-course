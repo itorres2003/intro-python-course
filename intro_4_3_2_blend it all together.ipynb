{
 "cells": [
  {
   "cell_type": "markdown",
   "metadata": {},
   "source": [
    "# Blend it all together\n",
    "\n",
    "In the last few exercises you've learned everything there is to know about heights and weights of baseball players. Now it's time to dive into another sport: soccer.\n",
    "\n",
    "You've contacted FIFA for some data and they handed you two lists. The lists are the following:\n",
    "\n",
    "~~~\n",
    "positions = ['GK', 'M', 'A', 'D', ...]\n",
    "heights = [191, 184, 185, 180, ...]\n",
    "~~~\n",
    "\n",
    "Each element in the lists corresponds to a player. The first list, <span style=\"background-color: #CFDCE2\">positions</span>, contains strings representing each player's position. The possible positions are: <span style=\"background-color: #CFDCE2\">'GK'</span> (goalkeeper), <span style=\"background-color: #CFDCE2\">'M'</span> (midfield), <span style=\"background-color: #CFDCE2\">'A'</span> (attack) and <span style=\"background-color: #CFDCE2\">'D'</span> (defense). The second list, <span style=\"background-color: #CFDCE2\">heights</span>, contains integers representing the height of the player in cm. The first player in the lists is a goalkeeper and is pretty tall (191 cm).\n",
    "\n",
    "You're fairly confident that the median height of goalkeepers is higher than that of other players on the soccer field. Some of your friends don't believe you, so you are determined to show them using the data you received from FIFA and your newly acquired Python skills.\n",
    "\n",
    "\n",
    "### INSTRUCTIONS\n",
    "\n",
    "- Convert <span style=\"background-color: #CFDCE2\">heights</span> and <span style=\"background-color: #CFDCE2\">positions</span>, which are regular lists, to numpy arrays. Call them <span style=\"background-color: #CFDCE2\">np_heights</span> and <span style=\"background-color: #CFDCE2\">np_positions</span>.\n",
    "- Extract all the heights of the goalkeepers. You can use a little trick here: use <span style=\"background-color: #CFDCE2\">np_positions == 'GK'</span> as an index for <span style=\"background-color: #CFDCE2\">np_heights</span>. Assign the result to <span style=\"background-color: #CFDCE2\">gk_heights</span>.\n",
    "- Extract all the heights of all the other players. This time use <span style=\"background-color: #CFDCE2\">np_positions != 'GK'</span> as an index for <span style=\"background-color: #CFDCE2\">np_heights</span>. Assign the result to <span style=\"background-color: #CFDCE2\">other_heights</span>.\n",
    "- Print out the median height of the goalkeepers using <span style=\"background-color: #CFDCE2\">**np.median()**</span>. Replace <span style=\"background-color: #CFDCE2\">None</span> with the correct code.\n",
    "- Do the same for the other players. Print out their median height. Replace <span style=\"background-color: #CFDCE2\">None</span> with the correct code.\n"
   ]
  },
  {
   "cell_type": "code",
   "execution_count": null,
   "metadata": {
    "collapsed": true
   },
   "outputs": [],
   "source": [
    "# Do not edit, click on this cell and hit Shift + Enter before editing code below\n",
    "%run intro_4_3_2.py"
   ]
  },
  {
   "cell_type": "code",
   "execution_count": null,
   "metadata": {
    "collapsed": true
   },
   "outputs": [],
   "source": [
    "# heights and positions are available as lists\n",
    "\n",
    "# Import numpy\n",
    "import numpy as np\n",
    "\n",
    "# Convert positions and heights to numpy arrays: np_positions, np_heights\n",
    "\n",
    "\n",
    "\n",
    "# Heights of the goalkeepers: gk_heights\n",
    "\n",
    "\n",
    "# Heights of the other players: other_heights\n",
    "\n",
    "\n",
    "# Print out the median height of goalkeepers. Replace 'None'\n",
    "print(\"Median height of goalkeepers: \" + str(None))\n",
    "\n",
    "# Print out the median height of other players. Replace 'None'\n",
    "print(\"Median height of other players: \" + str(None))\n"
   ]
  }
 ],
 "metadata": {
  "kernelspec": {
   "display_name": "Python 2",
   "language": "python",
   "name": "python2"
  },
  "language_info": {
   "codemirror_mode": {
    "name": "ipython",
    "version": 2
   },
   "file_extension": ".py",
   "mimetype": "text/x-python",
   "name": "python",
   "nbconvert_exporter": "python",
   "pygments_lexer": "ipython2",
   "version": "2.7.14"
  }
 },
 "nbformat": 4,
 "nbformat_minor": 2
}
