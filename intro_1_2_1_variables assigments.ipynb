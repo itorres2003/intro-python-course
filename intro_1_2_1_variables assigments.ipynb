{
 "cells": [
  {
   "cell_type": "markdown",
   "metadata": {},
   "source": [
    "# Variable Assignment\n",
    "\n",
    "In Python, a variable allows you to refer to a value with a name. To create a variable use $=$, like this example:\n",
    "\n",
    "> <span style=\"background-color: #CFDCE2\"> x = 5</span>\n",
    "\n",
    "You can now use the name of this variable, $x$, instead of the actual value, $5$.\n",
    "\n",
    "Remember, $=$ in Python means assignment, it doesn't test equality!\n",
    "\n",
    "### INSTRUCTIONS\n",
    "\n",
    "- Create a variable <span style=\"background-color: #CFDCE2\">savings</span> with the value 100.\n",
    "- Check out this variable by typing <span style=\"background-color: #CFDCE2\">print(savings)</span> in the script.\n",
    "\n",
    "\n"
   ]
  },
  {
   "cell_type": "code",
   "execution_count": null,
   "metadata": {
    "collapsed": true
   },
   "outputs": [],
   "source": [
    "# Create a variable savings\n",
    "\n",
    "\n",
    "# Print out savings\n"
   ]
  }
 ],
 "metadata": {
  "kernelspec": {
   "display_name": "Python 2",
   "language": "python",
   "name": "python2"
  },
  "language_info": {
   "codemirror_mode": {
    "name": "ipython",
    "version": 2
   },
   "file_extension": ".py",
   "mimetype": "text/x-python",
   "name": "python",
   "nbconvert_exporter": "python",
   "pygments_lexer": "ipython2",
   "version": "2.7.14"
  }
 },
 "nbformat": 4,
 "nbformat_minor": 2
}
