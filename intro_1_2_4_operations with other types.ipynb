{
 "cells": [
  {
   "cell_type": "markdown",
   "metadata": {},
   "source": [
    "# Operations with other types\n",
    "\n",
    "Different types behave differently in Python.\n",
    "\n",
    "When you sum two strings, for example, you'll get different behavior than when you sum two integers or two booleans.\n",
    "\n",
    "In the script some variables with different types have already been created. It's up to you to use them.\n",
    "\n",
    "### INSTRUCTIONS\n",
    "\n",
    "- Calculate the product of <span style=\"background-color: #CFDCE2\">savings</span> and <span style=\"background-color: #CFDCE2\">factor</span>. Store the result in <span style=\"background-color: #CFDCE2\">year1</span>.\n",
    "- What do you think the resulting type will be? Find out by printing out the type of <span style=\"background-color: #CFDCE2\">year1</span>.\n",
    "- Calculate the sum of <span style=\"background-color: #CFDCE2\">desc</span> and <span style=\"background-color: #CFDCE2\">desc</span> and store the result in a new variable <span style=\"background-color: #CFDCE2\">doubledesc</span>.\n",
    "- Print out <span style=\"background-color: #CFDCE2\">doubledesc</span>. Did you expect this?\n",
    "\n"
   ]
  },
  {
   "cell_type": "code",
   "execution_count": null,
   "metadata": {
    "collapsed": true
   },
   "outputs": [],
   "source": [
    "# Several variables to experiment with\n",
    "savings = 100\n",
    "factor = 1.1\n",
    "desc = \"compound interest\"\n",
    "\n",
    "# Assign product of factor and savings to year1\n",
    "\n",
    "\n",
    "# Print the type of year1\n",
    "\n",
    "\n",
    "# Assign sum of desc and desc to doubledesc\n",
    "\n",
    "\n",
    "# Print out doubledesc\n"
   ]
  }
 ],
 "metadata": {
  "kernelspec": {
   "display_name": "Python 2",
   "language": "python",
   "name": "python2"
  },
  "language_info": {
   "codemirror_mode": {
    "name": "ipython",
    "version": 2
   },
   "file_extension": ".py",
   "mimetype": "text/x-python",
   "name": "python",
   "nbconvert_exporter": "python",
   "pygments_lexer": "ipython2",
   "version": "2.7.14"
  }
 },
 "nbformat": 4,
 "nbformat_minor": 2
}
