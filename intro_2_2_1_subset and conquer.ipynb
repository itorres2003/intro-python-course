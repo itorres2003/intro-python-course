{
 "cells": [
  {
   "cell_type": "markdown",
   "metadata": {},
   "source": [
    "# Subset and conquer\n",
    "\n",
    "Subsetting Python lists is a piece of cake. Take the code sample below, which creates a list <span style=\"background-color: #CFDCE2\">x</span> and then selects \"b\" from it. Remember that this is the second element, so it has index 1. You can also use negative indexing.\n",
    "\n",
    "```x = [\"a\", \"b\", \"c\", \"d\"]\n",
    "x[1]\n",
    "x[-3] # same result!```\n",
    "\n",
    "Remember the <span style=\"background-color: #CFDCE2\">areas</span> list from before, containing both strings and floats? Its definition is already in the script. Can you add the correct code to do some Python subsetting?\n",
    "\n",
    "### INSTRUCTIONS\n",
    "\n",
    "- Print out the second element from the <span style=\"background-color: #CFDCE2\">areas</span> list, so <span style=\"background-color: #CFDCE2\">11.25</span>.\n",
    "- Subset and print out the last element of <span style=\"background-color: #CFDCE2\">areas</span>, being <span style=\"background-color: #CFDCE2\">9.50</span>. Using a negative index makes sense here!\n",
    "- Select the number representing the area of the living room and print it out.\n"
   ]
  },
  {
   "cell_type": "code",
   "execution_count": null,
   "metadata": {
    "collapsed": true
   },
   "outputs": [],
   "source": [
    "# Create the areas list\n",
    "areas = [\"hallway\", 11.25, \"kitchen\", 18.0, \"living room\", 20.0, \"bedroom\", 10.75, \"bathroom\", 9.50]\n",
    "\n",
    "# Print out second element from areas\n",
    "\n",
    "\n",
    "# Print out last element from areas\n",
    "\n",
    "\n",
    "# Print out the area of the living room\n"
   ]
  }
 ],
 "metadata": {
  "kernelspec": {
   "display_name": "Python 2",
   "language": "python",
   "name": "python2"
  },
  "language_info": {
   "codemirror_mode": {
    "name": "ipython",
    "version": 2
   },
   "file_extension": ".py",
   "mimetype": "text/x-python",
   "name": "python",
   "nbconvert_exporter": "python",
   "pygments_lexer": "ipython2",
   "version": "2.7.14"
  }
 },
 "nbformat": 4,
 "nbformat_minor": 2
}
