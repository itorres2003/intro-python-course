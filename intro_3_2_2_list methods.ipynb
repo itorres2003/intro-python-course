{
 "cells": [
  {
   "cell_type": "markdown",
   "metadata": {},
   "source": [
    "# List Methods\n",
    "\n",
    "Strings are not the only Python types that have methods associated with them. Lists, floats, integers and booleans are also types that come packaged with a bunch of useful methods. In this exercise, you'll be experimenting with:\n",
    "\n",
    "- <span style=\"background-color: #CFDCE2\">**index()**</span>, to get the index of the first element of a list that matches its input and\n",
    "- <span style=\"background-color: #CFDCE2\">**count()**</span>, to get the number of times an element appears in a list.\n",
    "You'll be working on the list with the area of different parts of a house: <span style=\"background-color: #CFDCE2\">areas</span>.\n",
    "\n",
    "### INSTRUCTIONS\n",
    "\n",
    "- Use the <span style=\"background-color: #CFDCE2\">**index()**</span> method to get the index of the element in <span style=\"background-color: #CFDCE2\">areas</span> that is equal to <span style=\"background-color: #CFDCE2\">20.0</span>. Print out this index.\n",
    "- Call <span style=\"background-color: #CFDCE2\">**count()**</span> on <span style=\"background-color: #CFDCE2\">areas</span> to find out how many times <span style=\"background-color: #CFDCE2\">14.5</span> appears in the list. Again, simply print out this number."
   ]
  },
  {
   "cell_type": "code",
   "execution_count": null,
   "metadata": {
    "collapsed": true
   },
   "outputs": [],
   "source": [
    "# Create list areas\n",
    "areas = [11.25, 18.0, 20.0, 10.75, 9.50]\n",
    "\n",
    "# Print out the index of the element 20.0\n",
    "\n",
    "\n",
    "# Print out how often 14.5 appears in areas\n"
   ]
  }
 ],
 "metadata": {
  "kernelspec": {
   "display_name": "Python 2",
   "language": "python",
   "name": "python2"
  },
  "language_info": {
   "codemirror_mode": {
    "name": "ipython",
    "version": 2
   },
   "file_extension": ".py",
   "mimetype": "text/x-python",
   "name": "python",
   "nbconvert_exporter": "python",
   "pygments_lexer": "ipython2",
   "version": "2.7.14"
  }
 },
 "nbformat": 4,
 "nbformat_minor": 2
}
