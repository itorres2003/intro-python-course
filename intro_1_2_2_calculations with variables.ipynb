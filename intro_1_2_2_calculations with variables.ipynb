{
 "cells": [
  {
   "cell_type": "markdown",
   "metadata": {},
   "source": [
    "# Calculations with variables\n",
    "\n",
    "Remember how you calculated the money you ended up with after 7 years of investing $100? You did something like this:\n",
    "\n",
    "> $100 * 1.10 ** 7$\n",
    "\n",
    "Instead of calculating with the actual values, you can use variables instead. The <span style=\"background-color: #CFDCE2\">savings</span> variable you've created in the previous exercise represents the $100 you started with. It's up to you to create a new variable to represent <span style=\"background-color: #CFDCE2\">1.10</span> and then redo the calculations!\n",
    "\n",
    "### INSTRUCTIONS\n",
    "\n",
    "- Create a variable <span style=\"background-color: #CFDCE2\">factor</span>, equal to <span style=\"background-color: #CFDCE2\">1.10</span>.\n",
    "- Use <span style=\"background-color: #CFDCE2\">savings</span> and <span style=\"background-color: #CFDCE2\">factor</span> to calculate the amount of money you end up with after 7 years. Store the result in a new variable, <span style=\"background-color: #CFDCE2\">result</span>.\n",
    "- Print out the value of <span style=\"background-color: #CFDCE2\">result<span>.\n"
   ]
  },
  {
   "cell_type": "code",
   "execution_count": null,
   "metadata": {
    "collapsed": true
   },
   "outputs": [],
   "source": [
    "# Create a variable savings\n",
    "savings = 100\n",
    "\n",
    "# Create a variable factor\n",
    "\n",
    "\n",
    "# Calculate result\n",
    "\n",
    "\n",
    "# Print out result"
   ]
  }
 ],
 "metadata": {
  "kernelspec": {
   "display_name": "Python 2",
   "language": "python",
   "name": "python2"
  },
  "language_info": {
   "codemirror_mode": {
    "name": "ipython",
    "version": 2
   },
   "file_extension": ".py",
   "mimetype": "text/x-python",
   "name": "python",
   "nbconvert_exporter": "python",
   "pygments_lexer": "ipython2",
   "version": "2.7.14"
  }
 },
 "nbformat": 4,
 "nbformat_minor": 2
}
