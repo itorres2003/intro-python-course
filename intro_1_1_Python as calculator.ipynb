{
 "cells": [
  {
   "cell_type": "markdown",
   "metadata": {},
   "source": [
    "# Python as calculator\n",
    "\n",
    "Python is perfectly suited to do basic calculations. Apart from adittion, substraction, multiplication and division, there is also support for more advanced operations such as:\n",
    "- Exponentiation: `**`. This operator raises the number to its left to the power of the number to its right. For example `4**2` will give 16.\n",
    "- Modulo: `%`. This operator returns the remainder of the division of the number to the left by the number on its right. For example `18 % 7`\n",
    " equals 4.\n",
    "\n",
    "The code in the script below gives some examples.\n",
    "\n",
    "### INSTRUCTIONS\n",
    "\n",
    "Suppose you have `$100`, which you can invest with a `10%` return each year. After one year, it's $100×1.1=110$ dollars, and after two years it's $100×1.1×1.1=121$. Add code on the right to calculate how much money you end up with after 7 years.\n"
   ]
  },
  {
   "cell_type": "code",
   "execution_count": null,
   "metadata": {
    "collapsed": true
   },
   "outputs": [],
   "source": [
    "# Addition and subtraction\n",
    "print(5 + 5)\n",
    "print(5 - 5)\n",
    "\n",
    "# Multiplication and division\n",
    "print(3 * 5)\n",
    "print(10 / 2)\n",
    "\n",
    "# Exponentiation\n",
    "print(4 ** 2)\n",
    "\n",
    "# Modulo\n",
    "print(18 % 7)\n",
    "\n",
    "# How much is your $100 worth after 7 years?"
   ]
  }
 ],
 "metadata": {
  "kernelspec": {
   "display_name": "Python 2",
   "language": "python",
   "name": "python2"
  },
  "language_info": {
   "codemirror_mode": {
    "name": "ipython",
    "version": 2
   },
   "file_extension": ".py",
   "mimetype": "text/x-python",
   "name": "python",
   "nbconvert_exporter": "python",
   "pygments_lexer": "ipython2",
   "version": "2.7.14"
  }
 },
 "nbformat": 4,
 "nbformat_minor": 2
}
