{
 "cells": [
  {
   "cell_type": "markdown",
   "metadata": {},
   "source": [
    "# Import package\n",
    "\n",
    "As a data scientist, some notions of geometry never hurt. Let's refresh some of the basics.\n",
    "\n",
    "For a fancy clustering algorithm, you want to find the circumference, $C$, and area, $A$, of a circle. When the radius of the circle is <span style=\"background-color: #CFDCE2\">r</span>, you can calculate $C$ and $A$ as:\n",
    "\n",
    "$$C=2\\pi r$$\n",
    "$$A = \\pi r^2$$\n",
    "\n",
    "To use the constant <span style=\"background-color: #CFDCE2\">pi</span>, you'll need the <span style=\"background-color: #CFDCE2\">math</span> package. A variable <span style=\"background-color: #CFDCE2\">r</span> is already coded in the script. Fill in the code to calculate <span style=\"background-color: #CFDCE2\">$C$</span> and <span style=\"background-color: #CFDCE2\">$A$</span> and see how the <span style=\"background-color: #CFDCE2\">**print()**</span> functions create some nice printouts.\n",
    "\n",
    "### INSTRUCTIONS\n",
    "\n",
    "- Import the <span style=\"background-color: #CFDCE2\">math</span> package. Now you can access the constant <span style=\"background-color: #CFDCE2\">pi</span> with <span style=\"background-color: #CFDCE2\">math.pi</span>.\n",
    "- Calculate the circumference of the circle and store it in <span style=\"background-color: #CFDCE2\">$C$</span>.\n",
    "- Calculate the area of the circle and store it in <span style=\"background-color: #CFDCE2\">$A$</span>.\n",
    "\n"
   ]
  },
  {
   "cell_type": "code",
   "execution_count": null,
   "metadata": {
    "collapsed": true
   },
   "outputs": [],
   "source": [
    "# Definition of radius\n",
    "r = 0.43\n",
    "\n",
    "# Import the math package\n",
    "\n",
    "\n",
    "# Calculate C\n",
    "C = 0\n",
    "\n",
    "# Calculate A\n",
    "A = 0\n",
    "\n",
    "# Build printout\n",
    "print(\"Circumference: \" + str(C))\n",
    "print(\"Area: \" + str(A))"
   ]
  }
 ],
 "metadata": {
  "kernelspec": {
   "display_name": "Python 2",
   "language": "python",
   "name": "python2"
  },
  "language_info": {
   "codemirror_mode": {
    "name": "ipython",
    "version": 2
   },
   "file_extension": ".py",
   "mimetype": "text/x-python",
   "name": "python",
   "nbconvert_exporter": "python",
   "pygments_lexer": "ipython2",
   "version": "2.7.14"
  }
 },
 "nbformat": 4,
 "nbformat_minor": 2
}
