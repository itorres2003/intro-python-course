{
 "cells": [
  {
   "cell_type": "markdown",
   "metadata": {},
   "source": [
    "# Your First 2D NumPy Array\n",
    "\n",
    "Before working on the actual MLB data, let's try to create a 2D <span style=\"background-color: #CFDCE2\">numpy</span> array from a small list of lists.\n",
    "\n",
    "In this exercise, <span style=\"background-color: #CFDCE2\">baseball</span> is a list of lists. The main list contains 4 elements. Each of these elements is a list containing the height and the weight of 4 baseball players, in this order. <span style=\"background-color: #CFDCE2\">baseball</span> is already coded for you in the script.\n",
    "\n",
    "### INSTRUCTIONS\n",
    "\n",
    "- Use <span style=\"background-color: #CFDCE2\">**np.array()**</span> to create a 2D <span style=\"background-color: #CFDCE2\">numpy</span> array from <span style=\"background-color: #CFDCE2\">baseball</span>. Name it <span style=\"background-color: #CFDCE2\">np_baseball</span>.\n",
    "- Print out the type of <span style=\"background-color: #CFDCE2\">np_baseball</span>.\n",
    "- Print out the <span style=\"background-color: #CFDCE2\">shape</span> attribute of <span style=\"background-color: #CFDCE2\">np_baseball</span>. Use <span style=\"background-color: #CFDCE2\">np_baseball.shape</span>.\n"
   ]
  },
  {
   "cell_type": "code",
   "execution_count": null,
   "metadata": {
    "collapsed": true
   },
   "outputs": [],
   "source": [
    "# Create baseball, a list of lists\n",
    "baseball = [[180, 78.4],\n",
    "            [215, 102.7],\n",
    "            [210, 98.5],\n",
    "            [188, 75.2]]\n",
    "\n",
    "# Import numpy\n",
    "import numpy as np\n",
    "\n",
    "# Create a 2D numpy array from baseball: np_baseball\n",
    "\n",
    "\n",
    "# Print out the type of np_baseball\n",
    "\n",
    "\n",
    "# Print out the shape of np_baseball"
   ]
  }
 ],
 "metadata": {
  "kernelspec": {
   "display_name": "Python 2",
   "language": "python",
   "name": "python2"
  },
  "language_info": {
   "codemirror_mode": {
    "name": "ipython",
    "version": 2
   },
   "file_extension": ".py",
   "mimetype": "text/x-python",
   "name": "python",
   "nbconvert_exporter": "python",
   "pygments_lexer": "ipython2",
   "version": "2.7.14"
  }
 },
 "nbformat": 4,
 "nbformat_minor": 2
}
