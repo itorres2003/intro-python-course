{
 "cells": [
  {
   "cell_type": "markdown",
   "metadata": {},
   "source": [
    "# Baseball players' height\n",
    "\n",
    "You are a huge baseball fan. You decide to call the MLB (Major League Baseball) and ask around for some more statistics on the height of the main players. They pass along data on more than a thousand players, which is stored as a regular Python list: <span style=\"background-color: #CFDCE2\">height</span>. The height is expressed in inches. Can you make a <span style=\"background-color: #CFDCE2\">numpy</span> array out of it and convert the units to meters?\n",
    "\n",
    "<span style=\"background-color: #CFDCE2\">height</span> is already available and the <span style=\"background-color: #CFDCE2\">numpy</span> package is loaded, so you can start straight away (Source: stat.ucla.edu).\n",
    "\n",
    "### INSTRUCTIONS\n",
    "\n",
    "- Create a <span style=\"background-color: #CFDCE2\">numpy</span> array from <span style=\"background-color: #CFDCE2\">height</span>. Name this new array <span style=\"background-color: #CFDCE2\">np_height</span>.\n",
    "- Print <span style=\"background-color: #CFDCE2\">np_height</span>.\n",
    "- Multiply <span style=\"background-color: #CFDCE2\">np_height</span> with <span style=\"background-color: #CFDCE2\">0.0254</span> to convert all height measurements from inches to meters. Store the new values in a new array, <span style=\"background-color: #CFDCE2\">np_height_m</span>.\n",
    "- Print out <span style=\"background-color: #CFDCE2\">np_height_m</span> and check if the output makes sense."
   ]
  },
  {
   "cell_type": "code",
   "execution_count": 10,
   "metadata": {
    "collapsed": true
   },
   "outputs": [],
   "source": [
    "%run intro_4_1_2.py  #Do not edit, Hit SHift + Enter before editing the code below"
   ]
  },
  {
   "cell_type": "code",
   "execution_count": null,
   "metadata": {
    "collapsed": true
   },
   "outputs": [],
   "source": [
    "# height is available as a regular list\n",
    "\n",
    "# Import numpy\n",
    "import numpy as np\n",
    "\n",
    "# Create a numpy array from height: np_height\n",
    "\n",
    "\n",
    "# Print out np_height\n",
    "\n",
    "\n",
    "# Convert np_height to m: np_height_m\n",
    "\n",
    "\n",
    "# Print np_height_m\n"
   ]
  }
 ],
 "metadata": {
  "kernelspec": {
   "display_name": "Python 2",
   "language": "python",
   "name": "python2"
  },
  "language_info": {
   "codemirror_mode": {
    "name": "ipython",
    "version": 2
   },
   "file_extension": ".py",
   "mimetype": "text/x-python",
   "name": "python",
   "nbconvert_exporter": "python",
   "pygments_lexer": "ipython2",
   "version": "2.7.14"
  }
 },
 "nbformat": 4,
 "nbformat_minor": 2
}
