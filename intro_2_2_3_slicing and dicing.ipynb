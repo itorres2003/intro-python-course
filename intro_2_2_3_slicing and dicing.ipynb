{
 "cells": [
  {
   "cell_type": "markdown",
   "metadata": {},
   "source": [
    "# Slicing and dicing\n",
    "\n",
    "Selecting single values from a list is just one part of the story. It's also possible to slice your list, which means selecting multiple elements from your list. Use the following syntax:\n",
    "\n",
    ">my_list[start:end]\n",
    "\n",
    "The <span style=\"background-color: #CFDCE2\">start</span> index will be included, while the <span style=\"background-color: #CFDCE2\">end</span> index is *not*.\n",
    "\n",
    "The code sample below shows an example. A list with <span style=\"background-color: #CFDCE2\">\"b\"</span> and <span style=\"background-color: #CFDCE2\">\"c\"</span>, corresponding to indexes 1 and 2, are selected from a list <span style=\"background-color: #CFDCE2\">x</span>:\n",
    "\n",
    "```x = [\"a\", \"b\", \"c\", \"d\"]\n",
    "x[1:3]```\n",
    "\n",
    "The elements with index 1 and 2 are included, while the element with index 3 is not.\n",
    "\n",
    "### INSTRUCTIONS\n",
    "\n",
    "- Use slicing to create a list, <span style=\"background-color: #CFDCE2\">downstairs</span>, that contains the first 6 elements of <span style=\"background-color: #CFDCE2\">areas</span>.\n",
    "- Do a similar thing to create a new variable, <span style=\"background-color: #CFDCE2\">upstairs</span>, that contains the last 4 elements of <span style=\"background-color: #CFDCE2\">areas</span>.\n",
    "- Print both <span style=\"background-color: #CFDCE2\">downstairs</span> and <span style=\"background-color: #CFDCE2\">upstairs</span> using <span style=\"background-color: #CFDCE2\">**print()**</span>.\n"
   ]
  },
  {
   "cell_type": "code",
   "execution_count": null,
   "metadata": {
    "collapsed": true
   },
   "outputs": [],
   "source": [
    "# Create the areas list\n",
    "areas = [\"hallway\", 11.25, \"kitchen\", 18.0, \"living room\", 20.0, \"bedroom\", 10.75, \"bathroom\", 9.50]\n",
    "\n",
    "# Use slicing to create downstairs\n",
    "\n",
    "\n",
    "# Use slicing to create upstairs\n",
    "\n",
    "\n",
    "# Print out downstairs and upstairs"
   ]
  }
 ],
 "metadata": {
  "kernelspec": {
   "display_name": "Python 2",
   "language": "python",
   "name": "python2"
  },
  "language_info": {
   "codemirror_mode": {
    "name": "ipython",
    "version": 2
   },
   "file_extension": ".py",
   "mimetype": "text/x-python",
   "name": "python",
   "nbconvert_exporter": "python",
   "pygments_lexer": "ipython2",
   "version": "2.7.14"
  }
 },
 "nbformat": 4,
 "nbformat_minor": 2
}
