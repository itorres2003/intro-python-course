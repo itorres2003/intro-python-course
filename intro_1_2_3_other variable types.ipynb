{
 "cells": [
  {
   "cell_type": "markdown",
   "metadata": {},
   "source": [
    "# Other variable types\n",
    "\n",
    "In the previous exercise, you worked with two Python data types:\n",
    "\n",
    "- <span style=\"background-color: #CFDCE2\">int</span>, or integer: a number without a fractional part. <span style=\"background-color: #CFDCE2\">savings</span>, with the value <span style=\"background-color: #CFDCE2\">100</span>, is an example of an integer.\n",
    "- <span style=\"background-color: #CFDCE2\">float</span>, or floating point: a number that has both an integer and fractional part, separated by a point. <span style=\"background-color: #CFDCE2\">factor</span>, with the value <span style=\"background-color: #CFDCE2\">1.10</span>, is an example of a float.\n",
    "\n",
    "Next to numerical data types, there are two other very common data types:\n",
    "\n",
    "- <span style=\"background-color: #CFDCE2\">str</span>, or string: a type to represent text. You can use single or double quotes to build a string.\n",
    "- <span style=\"background-color: #CFDCE2\">bool</span>, or boolean: a type to represent logical values. Can only be <span style=\"background-color: #CFDCE2\">True</span> or <span style=\"background-color: #CFDCE2\">False</span> (the capitalization is important!).\n",
    "\n",
    "\n",
    "### INSTRUCTIONS\n",
    "\n",
    "- Create a new string, <span style=\"background-color: #CFDCE2\">desc</span>, with the value <span style=\"background-color: #CFDCE2\">\"compound interest\"</span>.\n",
    "- Create a new boolean, <span style=\"background-color: #CFDCE2\">profitable</span>, with the value <span style=\"background-color: #CFDCE2\">True</span>."
   ]
  },
  {
   "cell_type": "code",
   "execution_count": null,
   "metadata": {
    "collapsed": true
   },
   "outputs": [],
   "source": [
    "# Create a variable desc\n",
    "\n",
    "\n",
    "# Create a variable profitable\n"
   ]
  }
 ],
 "metadata": {
  "kernelspec": {
   "display_name": "Python 2",
   "language": "python",
   "name": "python2"
  },
  "language_info": {
   "codemirror_mode": {
    "name": "ipython",
    "version": 2
   },
   "file_extension": ".py",
   "mimetype": "text/x-python",
   "name": "python",
   "nbconvert_exporter": "python",
   "pygments_lexer": "ipython2",
   "version": "2.7.14"
  }
 },
 "nbformat": 4,
 "nbformat_minor": 2
}
