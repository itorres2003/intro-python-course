{
 "cells": [
  {
   "cell_type": "markdown",
   "metadata": {},
   "source": [
    "# String Methods\n",
    "\n",
    "Strings come with a bunch of methods. Follow the instructions closely to discover some of them. If you want to discover them in more detail, you can always type <span style=\"background-color: #CFDCE2\">help(str)</span> in the IPython Shell.\n",
    "\n",
    "A string <span style=\"background-color: #CFDCE2\">room</span> has already been created for you to experiment with.\n",
    "\n",
    "### INSTRUCTIONS\n",
    "\n",
    "- Use the <span style=\"background-color: #CFDCE2\">**upper()**</span> method on <span style=\"background-color: #CFDCE2\">room</span> and store the result in <span style=\"background-color: #CFDCE2\">room_up</span>. \n",
    "- Print out <span style=\"background-color: #CFDCE2\">room</span> and <span style=\"background-color: #CFDCE2\">room_up</span>. Did both change?\n",
    "- Print out the number of o's on the variable <span style=\"background-color: #CFDCE2\">room</span> by calling <span style=\"background-color: #CFDCE2\">**count()**</span> on <span style=\"background-color: #CFDCE2\">room</span> and passing the letter <span style=\"background-color: #CFDCE2\">\"o\"</span> as an input to the method. We're talking about the variable <span style=\"background-color: #CFDCE2\">room</span>, not the word <span style=\"background-color: #CFDCE2\">\"room\"</span>!\n"
   ]
  },
  {
   "cell_type": "code",
   "execution_count": null,
   "metadata": {
    "collapsed": true
   },
   "outputs": [],
   "source": [
    "# string to experiment with: room\n",
    "room = \"poolhouse\"\n",
    "\n",
    "# Use upper() on room: room_up\n",
    "\n",
    "\n",
    "# Print out room and room_up\n",
    "\n",
    "\n",
    "# Print out the number of o's in room\n"
   ]
  }
 ],
 "metadata": {
  "kernelspec": {
   "display_name": "Python 2",
   "language": "python",
   "name": "python2"
  },
  "language_info": {
   "codemirror_mode": {
    "name": "ipython",
    "version": 2
   },
   "file_extension": ".py",
   "mimetype": "text/x-python",
   "name": "python",
   "nbconvert_exporter": "python",
   "pygments_lexer": "ipython2",
   "version": "2.7.14"
  }
 },
 "nbformat": 4,
 "nbformat_minor": 2
}
