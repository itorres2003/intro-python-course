{
 "cells": [
  {
   "cell_type": "markdown",
   "metadata": {},
   "source": [
    "# Explore the baseball data\n",
    "\n",
    "Because the mean and median are so far apart, you decide to complain to the MLB. They find the error and send the corrected data over to you. It's again available as a 2D Numpy array <span style=\"background-color: #CFDCE2\">np_baseball</span>, with three columns.\n",
    "\n",
    "The Python script on the right already includes code to print out informative messages with the different summary statistics. Can you finish the job?\n",
    "\n",
    "### INSTRUCTIONS\n",
    "\n",
    "- The code to print out the mean height is already included. Complete the code for the median height. Replace <span style=\"background-color: #CFDCE2\">None</span> with the correct code.\n",
    "- Use <span style=\"background-color: #CFDCE2\">**np.std()**</span> on the first column of <span style=\"background-color: #CFDCE2\">np_baseball</span> to calculate <span style=\"background-color: #CFDCE2\">stddev</span>. Replace <span style=\"background-color: #CFDCE2\">None</span> with the correct code.\n",
    "- Do big players tend to be heavier? Use <span style=\"background-color: #CFDCE2\">**np.corrcoef()**</span> to store the correlation between the first and second column of <span style=\"background-color: #CFDCE2\">np_baseball</span> in <span style=\"background-color: #CFDCE2\">corr</span>. Replace <span style=\"background-color: #CFDCE2\">None</span> with the correct code.\n",
    "\n"
   ]
  },
  {
   "cell_type": "code",
   "execution_count": null,
   "metadata": {
    "collapsed": true
   },
   "outputs": [],
   "source": [
    "# DO not edit this, click on cell and Hit Shift + Enter before editing code below\n",
    "%run intro_4_3_1.py "
   ]
  },
  {
   "cell_type": "code",
   "execution_count": null,
   "metadata": {
    "collapsed": true
   },
   "outputs": [],
   "source": [
    "# np_baseball is available\n",
    "\n",
    "# Import numpy\n",
    "import numpy as np\n",
    "\n",
    "# Print mean height (first column)\n",
    "avg = np.mean(np_baseball[:,0])\n",
    "print(\"Average: \" + str(avg))\n",
    "\n",
    "# Print median height. Replace 'None'\n",
    "med = None\n",
    "print(\"Median: \" + str(med))\n",
    "\n",
    "# Print out the standard deviation on height. Replace 'None'\n",
    "stddev = None\n",
    "print(\"Standard Deviation: \" + str(stddev))\n",
    "\n",
    "# Print out correlation between first and second column. Replace 'None'\n",
    "corr = None\n",
    "print(\"Correlation: \" + str(corr))"
   ]
  }
 ],
 "metadata": {
  "kernelspec": {
   "display_name": "Python 2",
   "language": "python",
   "name": "python2"
  },
  "language_info": {
   "codemirror_mode": {
    "name": "ipython",
    "version": 2
   },
   "file_extension": ".py",
   "mimetype": "text/x-python",
   "name": "python",
   "nbconvert_exporter": "python",
   "pygments_lexer": "ipython2",
   "version": "2.7.14"
  }
 },
 "nbformat": 4,
 "nbformat_minor": 2
}
