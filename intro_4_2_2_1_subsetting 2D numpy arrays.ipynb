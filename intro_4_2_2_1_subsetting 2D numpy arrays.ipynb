{
 "cells": [
  {
   "cell_type": "markdown",
   "metadata": {},
   "source": [
    "# Subsetting 2D NumPy Arrays\n",
    "\n",
    "If your 2D <span style=\"background-color: #CFDCE2\">numpy</span> array has a regular structure, i.e. each row and column has a fixed number of values, complicated ways of subsetting become very easy. Have a look at the code below where the elements <span style=\"background-color: #CFDCE2\">\"a\"</span> and <span style=\"background-color: #CFDCE2\">\"c\"</span> are extracted from a list of lists.\n",
    "\n",
    "~~~\n",
    "# regular list of lists\n",
    "x = [[\"a\", \"b\"], [\"c\", \"d\"]]\n",
    "[x[0][0], x[1][0]]\n",
    "\n",
    "# numpy\n",
    "import numpy as np\n",
    "np_x = np.array(x)\n",
    "np_x[:,0]\n",
    "~~~\n",
    "\n",
    "For regular Python lists, this is a real pain. For 2D <span style=\"background-color: #CFDCE2\">numpy</span> arrays, however, it's pretty intuitive! The indexes before the comma refer to the rows, while those after the comma refer to the columns. The <span style=\"background-color: #CFDCE2\">:</span> is for slicing; in this example, it tells Python to include all rows.\n",
    "\n",
    "The code that converts the pre-loaded <span style=\"background-color: #CFDCE2\">baseball</span> list to a 2D <span style=\"background-color: #CFDCE2\">numpy</span> array is already in the script. The first column contains the players' height in inches and the second column holds player weight, in pounds. Add some lines to make the correct selections. Remember that in Python, the first element is at index 0!\n",
    "\n",
    "### INSTRUCTIONS\n",
    "\n",
    "- Print out the 50th row of <span style=\"background-color: #CFDCE2\">np_baseball</span>.\n",
    "- Make a new variable, <span style=\"background-color: #CFDCE2\">np_weight</span>, containing the entire second column of <span style=\"background-color: #CFDCE2\">np_baseball</span>.\n",
    "- Select the height (first column) of the 124th baseball player in <span style=\"background-color: #CFDCE2\">np_baseball</span> and print it out.\n"
   ]
  },
  {
   "cell_type": "code",
   "execution_count": null,
   "metadata": {
    "collapsed": true
   },
   "outputs": [],
   "source": [
    "%run intro_4_2_2_baseball.py # Do not edit and Hit Shift + Enter before editing the code below"
   ]
  },
  {
   "cell_type": "code",
   "execution_count": null,
   "metadata": {
    "collapsed": true
   },
   "outputs": [],
   "source": [
    "# Try this\n",
    "# regular list of lists\n",
    "x = [[\"a\", \"b\"], [\"c\", \"d\"]]\n",
    "[x[0][0], x[1][0]]\n",
    "\n",
    "# numpy\n",
    "import numpy as np\n",
    "np_x = np.array(x)\n",
    "np_x[:,0]"
   ]
  },
  {
   "cell_type": "code",
   "execution_count": null,
   "metadata": {
    "collapsed": true
   },
   "outputs": [],
   "source": [
    "# baseball is available as a regular list of lists\n",
    "\n",
    "# Import numpy package\n",
    "import numpy as np\n",
    "\n",
    "# Create np_baseball (2 cols)\n",
    "np_baseball = np.array(baseball)\n",
    "\n",
    "# Print out the 50th row of np_baseball\n",
    "\n",
    "\n",
    "# Select the entire second column of np_baseball: np_weight\n",
    "\n",
    "\n",
    "# Print out height of 124th player"
   ]
  }
 ],
 "metadata": {
  "kernelspec": {
   "display_name": "Python 2",
   "language": "python",
   "name": "python2"
  },
  "language_info": {
   "codemirror_mode": {
    "name": "ipython",
    "version": 2
   },
   "file_extension": ".py",
   "mimetype": "text/x-python",
   "name": "python",
   "nbconvert_exporter": "python",
   "pygments_lexer": "ipython2",
   "version": "2.7.14"
  }
 },
 "nbformat": 4,
 "nbformat_minor": 2
}
