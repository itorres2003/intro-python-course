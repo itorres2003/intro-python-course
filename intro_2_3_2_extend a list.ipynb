{
 "cells": [
  {
   "cell_type": "markdown",
   "metadata": {},
   "source": [
    "# Extend a list\n",
    "\n",
    "If you can change elements in a list, you sure want to be able to add elements to it, right? You can use the <span style=\"background-color: #CFDCE2\">+</span> operator:\n",
    "\n",
    "~~~\n",
    "x = [\"a\", \"b\", \"c\", \"d\"]\n",
    "y = x + [\"e\", \"f\"]\n",
    "~~~\n",
    "\n",
    "You just won the lottery, awesome! You decide to build a poolhouse and a garage. Can you add the information to the <span style=\"background-color: #CFDCE2\">areas</span> list?\n",
    "\n",
    "### INSTRUCTIONS\n",
    "\n",
    "- Use the <span style=\"background-color: #CFDCE2\">+</span> operator to paste the list <span style=\"background-color: #CFDCE2\">[\"poolhouse\", 24.5]</span> to the end of the areas list. Store the resulting list as <span style=\"background-color: #CFDCE2\">areas_1</span>.\n",
    "- Further extend <span style=\"background-color: #CFDCE2\">areas_1</span> by adding data on your garage. Add the string <span style=\"background-color: #CFDCE2\">\"garage\"</span> and float <span style=\"background-color: #CFDCE2\">15.45</span>. Name the resulting list <span style=\"background-color: #CFDCE2\">areas_2</span>.\n",
    "\n"
   ]
  },
  {
   "cell_type": "code",
   "execution_count": null,
   "metadata": {
    "collapsed": true
   },
   "outputs": [],
   "source": []
  },
  {
   "cell_type": "code",
   "execution_count": null,
   "metadata": {
    "collapsed": true
   },
   "outputs": [],
   "source": [
    "# Create the areas list and make some changes\n",
    "areas = [\"hallway\", 11.25, \"kitchen\", 18.0, \"chill zone\", 20.0,\n",
    "         \"bedroom\", 10.75, \"bathroom\", 10.50]\n",
    "\n",
    "# Add poolhouse data to areas, new list is areas_1\n",
    "\n",
    "\n",
    "# Add garage data to areas_1, new list is areas_2\n"
   ]
  }
 ],
 "metadata": {
  "kernelspec": {
   "display_name": "Python 2",
   "language": "python",
   "name": "python2"
  },
  "language_info": {
   "codemirror_mode": {
    "name": "ipython",
    "version": 2
   },
   "file_extension": ".py",
   "mimetype": "text/x-python",
   "name": "python",
   "nbconvert_exporter": "python",
   "pygments_lexer": "ipython2",
   "version": "2.7.14"
  }
 },
 "nbformat": 4,
 "nbformat_minor": 2
}
