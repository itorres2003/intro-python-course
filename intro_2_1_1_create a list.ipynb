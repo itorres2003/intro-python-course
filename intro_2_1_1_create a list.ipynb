{
 "cells": [
  {
   "cell_type": "markdown",
   "metadata": {},
   "source": [
    "# Create a list\n",
    "\n",
    "As opposed to <span style=\"background-color: #CFDCE2\">int</span>, <span style=\"background-color: #CFDCE2\">bool</span> etc., a list is a compound data type; you can group values together:\n",
    "\n",
    "```a = \"is\"\n",
    "b = \"nice\"\n",
    "my_list = [\"my\", \"list\", a, b]```\n",
    "\n",
    "After measuring the height of your family, you decide to collect some information on the house you're living in. The areas of the different parts of your house are stored in separate variables for now, as shown in the script.\n",
    "\n",
    "### INSTRUCTIONS\n",
    "\n",
    "- Create a list, <span style=\"background-color: #CFDCE2\">areas</span>, that contains the area of the hallway (<span style=\"background-color: #CFDCE2\">hall</span>), kitchen (<span style=\"background-color: #CFDCE2\">kit</span>), living room (<span style=\"background-color: #CFDCE2\">liv</span>), bedroom (<span style=\"background-color: #CFDCE2\">bed</span>) and bathroom (<span style=\"background-color: #CFDCE2\">bath</span>), in this order. Use the predefined variables.\n",
    "- Print <span style=\"background-color: #CFDCE2\">areas</span> with the <span style=\"background-color: #CFDCE2\">print()</span> function."
   ]
  },
  {
   "cell_type": "code",
   "execution_count": null,
   "metadata": {
    "collapsed": true
   },
   "outputs": [],
   "source": [
    "# area variables (in square meters)\n",
    "hall = 11.25\n",
    "kit = 18.0\n",
    "liv = 20.0\n",
    "bed = 10.75\n",
    "bath = 9.50\n",
    "\n",
    "# Create list areas\n",
    "\n",
    "\n",
    "# Print areas"
   ]
  }
 ],
 "metadata": {
  "kernelspec": {
   "display_name": "Python 2",
   "language": "python",
   "name": "python2"
  },
  "language_info": {
   "codemirror_mode": {
    "name": "ipython",
    "version": 2
   },
   "file_extension": ".py",
   "mimetype": "text/x-python",
   "name": "python",
   "nbconvert_exporter": "python",
   "pygments_lexer": "ipython2",
   "version": "2.7.14"
  }
 },
 "nbformat": 4,
 "nbformat_minor": 2
}
