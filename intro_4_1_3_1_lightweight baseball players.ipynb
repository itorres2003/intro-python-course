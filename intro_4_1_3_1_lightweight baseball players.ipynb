{
 "cells": [
  {
   "cell_type": "markdown",
   "metadata": {},
   "source": [
    "# Lightweight baseball players\n",
    "\n",
    "To subset both regular Python lists and <span style=\"background-color: #CFDCE2\">numpy</span> arrays, you can use square brackets:\n",
    "\n",
    "~~~\n",
    "x = [4 , 9 , 6, 3, 1]\n",
    "x[1]\n",
    "import numpy as np\n",
    "y = np.array(x)\n",
    "y[1]\n",
    "~~~\n",
    "\n",
    "For <span style=\"background-color: #CFDCE2\">numpy</span> specifically, you can also use boolean <span style=\"background-color: #CFDCE2\">numpy</span> arrays:\n",
    "\n",
    "~~~\n",
    "high = y > 5\n",
    "y[high]\n",
    "~~~\n",
    "\n",
    "The code that calculates the BMI of all baseball players is already included. Follow the instructions and reveal interesting things from the data!\n",
    "\n",
    "### INSTRUCTIONS\n",
    "\n",
    "- Create a boolean <span style=\"background-color: #CFDCE2\">numpy</span> array: the element of the array should be <span style=\"background-color: #CFDCE2\">True</span> if the corresponding baseball player's BMI is below 21. You can use the <span style=\"background-color: #CFDCE2\"><</span> operator for this. Name the array <span style=\"background-color: #CFDCE2\">light</span>.\n",
    "- Print the array <span style=\"background-color: #CFDCE2\">light</span>.\n",
    "- Print out a <span style=\"background-color: #CFDCE2\">numpy</span> array with the BMIs of all baseball players whose BMI is below 21. Use <span style=\"background-color: #CFDCE2\">light</span> inside square brackets to do a selection on the <span style=\"background-color: #CFDCE2\">bmi</span> array."
   ]
  },
  {
   "cell_type": "code",
   "execution_count": null,
   "metadata": {
    "collapsed": true
   },
   "outputs": [],
   "source": [
    "x = [4 , 9 , 6, 3, 1]\n",
    "x[1]\n",
    "import numpy as np\n",
    "y = np.array(x)\n",
    "y[1]"
   ]
  },
  {
   "cell_type": "code",
   "execution_count": null,
   "metadata": {
    "collapsed": true
   },
   "outputs": [],
   "source": [
    "high = y > 5\n",
    "y[high]"
   ]
  },
  {
   "cell_type": "code",
   "execution_count": null,
   "metadata": {
    "collapsed": true
   },
   "outputs": [],
   "source": [
    "%run intro_4_1_3.py   #Do not edit, Hit Shift + Enter before editing code below"
   ]
  },
  {
   "cell_type": "code",
   "execution_count": null,
   "metadata": {
    "collapsed": true
   },
   "outputs": [],
   "source": [
    "# height and weight are available as a regular lists\n",
    "\n",
    "# Import numpy\n",
    "import numpy as np\n",
    "\n",
    "# Calculate the BMI: bmi\n",
    "np_height_m = np.array(height) * 0.0254\n",
    "np_weight_kg = np.array(weight) * 0.453592\n",
    "bmi = np_weight_kg / np_height_m ** 2\n",
    "\n",
    "# Create the light array\n",
    "\n",
    "\n",
    "# Print out light\n",
    "\n",
    "\n",
    "# Print out BMIs of all baseball players whose BMI is below 21"
   ]
  }
 ],
 "metadata": {
  "kernelspec": {
   "display_name": "Python 2",
   "language": "python",
   "name": "python2"
  },
  "language_info": {
   "codemirror_mode": {
    "name": "ipython",
    "version": 2
   },
   "file_extension": ".py",
   "mimetype": "text/x-python",
   "name": "python",
   "nbconvert_exporter": "python",
   "pygments_lexer": "ipython2",
   "version": "2.7.14"
  }
 },
 "nbformat": 4,
 "nbformat_minor": 2
}
