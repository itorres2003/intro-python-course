{
 "cells": [
  {
   "cell_type": "markdown",
   "metadata": {},
   "source": [
    "# Average versus median\n",
    "\n",
    "You now know how to use <span style=\"background-color: #CFDCE2\">numpy</span> functions to get a better feeling for your data. It basically comes down to importing <span style=\"background-color: #CFDCE2\">numpy</span> and then calling several simple functions on the <span style=\"background-color: #CFDCE2\">numpy</span> arrays:\n",
    "\n",
    "~~~\n",
    "import numpy as np\n",
    "x = [1, 4, 8, 10, 12]\n",
    "np.mean(x)\n",
    "np.median(x)\n",
    "~~~\n",
    "\n",
    "The baseball data is available as a 2D <span style=\"background-color: #CFDCE2\">numpy</span> array with 3 columns (height, weight, age) and 1015 rows. The name of this <span style=\"background-color: #CFDCE2\">numpy</span> array is <span style=\"background-color: #CFDCE2\">np_baseball</span>. After restructuring the data, however, you notice that some height values are abnormally high. Follow the instructions and discover which summary statistic is best suited if you're dealing with so-called *outliers*.\n",
    "\n",
    "### INSTRUCTIONS\n",
    "\n",
    "- Create <span style=\"background-color: #CFDCE2\">numpy</span> array <span style=\"background-color: #CFDCE2\">np_height</span> that is equal to first column of <span style=\"background-color: #CFDCE2\">np_baseball</span>.\n",
    "- Print out the mean of <span style=\"background-color: #CFDCE2\">np_height</span>.\n",
    "- Print out the median of <span style=\"background-color: #CFDCE2\">np_height</span>."
   ]
  },
  {
   "cell_type": "code",
   "execution_count": null,
   "metadata": {
    "collapsed": true
   },
   "outputs": [],
   "source": [
    "%run intro_4_3_1.py  # Do not edit and Hit Shift + Enter before editing code below"
   ]
  },
  {
   "cell_type": "code",
   "execution_count": null,
   "metadata": {
    "collapsed": true
   },
   "outputs": [],
   "source": []
  },
  {
   "cell_type": "code",
   "execution_count": null,
   "metadata": {
    "collapsed": true
   },
   "outputs": [],
   "source": [
    "# np_baseball is available\n",
    "\n",
    "# Import numpy\n",
    "import numpy as np\n",
    "\n",
    "# Create np_height from np_baseball\n",
    "\n",
    "\n",
    "# Print out the mean of np_height\n",
    "\n",
    "\n",
    "# Print out the median of np_height\n"
   ]
  }
 ],
 "metadata": {
  "kernelspec": {
   "display_name": "Python 2",
   "language": "python",
   "name": "python2"
  },
  "language_info": {
   "codemirror_mode": {
    "name": "ipython",
    "version": 2
   },
   "file_extension": ".py",
   "mimetype": "text/x-python",
   "name": "python",
   "nbconvert_exporter": "python",
   "pygments_lexer": "ipython2",
   "version": "2.7.14"
  }
 },
 "nbformat": 4,
 "nbformat_minor": 2
}
