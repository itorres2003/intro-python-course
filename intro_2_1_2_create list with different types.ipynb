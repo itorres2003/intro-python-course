{
 "cells": [
  {
   "cell_type": "markdown",
   "metadata": {},
   "source": [
    "# Create list with different types\n",
    "\n",
    "A list can contain any Python type. Although it's not really common, a list can also contain a mix of Python types including strings, floats, booleans, etc.\n",
    "\n",
    "The printout of the previous exercise wasn't really satisfying. It's just a list of numbers representing the areas, but you can't tell which area corresponds to which part of your house.\n",
    "\n",
    "The code on the right is the start of a solution. For some of the areas, the name of the corresponding room is already placed in front. Pay attention here! <span style=\"background-color: #CFDCE2\">\"bathroom\"</span> is a string, while <span style=\"background-color: #CFDCE2\">bath</span> is a variable that represents the float <span style=\"background-color: #CFDCE2\">9.50</span> you specified earlier.\n",
    "\n",
    "### INSTRUCTIONS\n",
    "\n",
    "- Finish the line of code that creates the <span style=\"background-color: #CFDCE2\">areas</span> list such that the list first contains the name of each room as a string and then its area. More specifically, add the strings <span style=\"background-color: #CFDCE2\">\"hallway\"</span>, <span style=\"background-color: #CFDCE2\">\"kitchen\"</span> and <span style=\"background-color: #CFDCE2\">\"bedroom\"</span> at the appropriate locations.\n",
    "- Print <span style=\"background-color: #CFDCE2\">areas</span> again; is the printout more informative this time?"
   ]
  },
  {
   "cell_type": "code",
   "execution_count": null,
   "metadata": {
    "collapsed": true
   },
   "outputs": [],
   "source": [
    "# area variables (in square meters)\n",
    "hall = 11.25\n",
    "kit = 18.0\n",
    "liv = 20.0\n",
    "bed = 10.75\n",
    "bath = 9.50\n",
    "\n",
    "# Adapt list areas\n",
    "areas = [hall, kit, \"living room\", liv, bed, \"bathroom\", bath]\n",
    "\n",
    "# Print areas"
   ]
  }
 ],
 "metadata": {
  "kernelspec": {
   "display_name": "Python 2",
   "language": "python",
   "name": "python2"
  },
  "language_info": {
   "codemirror_mode": {
    "name": "ipython",
    "version": 2
   },
   "file_extension": ".py",
   "mimetype": "text/x-python",
   "name": "python",
   "nbconvert_exporter": "python",
   "pygments_lexer": "ipython2",
   "version": "2.7.14"
  }
 },
 "nbformat": 4,
 "nbformat_minor": 2
}
