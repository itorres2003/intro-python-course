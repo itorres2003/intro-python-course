{
 "cells": [
  {
   "cell_type": "markdown",
   "metadata": {},
   "source": [
    "# Familiar functions\n",
    "\n",
    "Out of the box, Python offers a bunch of built-in functions to make your life as a data scientist easier. You already know two such functions: <span style=\"background-color: #CFDCE2\">**print()**</span> and <span style=\"background-color: #CFDCE2\">**type()**</span>. You've also used the functions <span style=\"background-color: #CFDCE2\">**str()**</span>, <span style=\"background-color: #CFDCE2\">**int()**</span>, <span style=\"background-color: #CFDCE2\">**bool()**</span> and <span style=\"background-color: #CFDCE2\">**float()**</span> to switch between data types. These are built-in functions as well.\n",
    "\n",
    "Calling a function is easy. To get the type of <span style=\"background-color: #CFDCE2\">3.0</span> and store the output as a new variable, <span style=\"background-color: #CFDCE2\">result</span>, you can use the following:\n",
    "\n",
    "> result = type(3.0)\n",
    "\n",
    "The general recipe for calling functions and saving the result to a variable is thus:\n",
    "\n",
    "> output = function_name(input)\n",
    "\n",
    "### INSTRUCTIONS\n",
    "\n",
    "- Use <span style=\"background-color: #CFDCE2\">**print()**</span> in combination with <span style=\"background-color: #CFDCE2\">**type()**</span> to print out the type of <span style=\"background-color: #CFDCE2\">var1</span>.\n",
    "- Use <span style=\"background-color: #CFDCE2\">**len()**</span> to get the length of the list <span style=\"background-color: #CFDCE2\">var1</span>. Wrap it in a <span style=\"background-color: #CFDCE2\">**print()**</span> call to directly print it out.\n",
    "- Use <span style=\"background-color: #CFDCE2\">**int()**</span> to convert <span style=\"background-color: #CFDCE2\">var2</span> to an integer. Store the output as <span style=\"background-color: #CFDCE2\">out2</span>.\n"
   ]
  },
  {
   "cell_type": "code",
   "execution_count": null,
   "metadata": {
    "collapsed": true
   },
   "outputs": [],
   "source": [
    "# Create variables var1 and var2\n",
    "var1 = [1, 2, 3, 4]\n",
    "var2 = True\n",
    "\n",
    "# Print out type of var1\n",
    "\n",
    "\n",
    "# Print out length of var1\n",
    "\n",
    "\n",
    "# Convert var2 to an integer: out2"
   ]
  }
 ],
 "metadata": {
  "kernelspec": {
   "display_name": "Python 2",
   "language": "python",
   "name": "python2"
  },
  "language_info": {
   "codemirror_mode": {
    "name": "ipython",
    "version": 2
   },
   "file_extension": ".py",
   "mimetype": "text/x-python",
   "name": "python",
   "nbconvert_exporter": "python",
   "pygments_lexer": "ipython2",
   "version": "2.7.14"
  }
 },
 "nbformat": 4,
 "nbformat_minor": 2
}
